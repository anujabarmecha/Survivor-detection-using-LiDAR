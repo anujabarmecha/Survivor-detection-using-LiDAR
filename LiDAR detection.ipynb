{
  "nbformat": 4,
  "nbformat_minor": 0,
  "metadata": {
    "colab": {
      "provenance": [],
      "gpuType": "T4"
    },
    "kernelspec": {
      "name": "python3",
      "display_name": "Python 3"
    },
    "language_info": {
      "name": "python"
    },
    "accelerator": "GPU"
  },
  "cells": [
    {
      "cell_type": "code",
      "source": [
        "!pip install open3d --q\n",
        "!pip install plotly --q\n",
        "!pip install pyntcloud --q"
      ],
      "metadata": {
        "colab": {
          "base_uri": "https://localhost:8080/"
        },
        "id": "2l3H2YFEDXQj",
        "outputId": "c1a52583-b42c-4123-ab6b-96893ae24abc"
      },
      "execution_count": null,
      "outputs": [
        {
          "output_type": "stream",
          "name": "stdout",
          "text": [
            "\u001b[2K   \u001b[90m━━━━━━━━━━━━━━━━━━━━━━━━━━━━━━━━━━━━━━━━\u001b[0m \u001b[32m399.7/399.7 MB\u001b[0m \u001b[31m3.2 MB/s\u001b[0m eta \u001b[36m0:00:00\u001b[0m\n",
            "\u001b[2K   \u001b[90m━━━━━━━━━━━━━━━━━━━━━━━━━━━━━━━━━━━━━━━━\u001b[0m \u001b[32m7.5/7.5 MB\u001b[0m \u001b[31m27.4 MB/s\u001b[0m eta \u001b[36m0:00:00\u001b[0m\n",
            "\u001b[2K   \u001b[90m━━━━━━━━━━━━━━━━━━━━━━━━━━━━━━━━━━━━━━━━\u001b[0m \u001b[32m139.8/139.8 kB\u001b[0m \u001b[31m7.2 MB/s\u001b[0m eta \u001b[36m0:00:00\u001b[0m\n",
            "\u001b[2K   \u001b[90m━━━━━━━━━━━━━━━━━━━━━━━━━━━━━━━━━━━━━━━━\u001b[0m \u001b[32m2.3/2.3 MB\u001b[0m \u001b[31m34.3 MB/s\u001b[0m eta \u001b[36m0:00:00\u001b[0m\n",
            "\u001b[2K   \u001b[90m━━━━━━━━━━━━━━━━━━━━━━━━━━━━━━━━━━━━━━━━\u001b[0m \u001b[32m346.3/346.3 kB\u001b[0m \u001b[31m10.8 MB/s\u001b[0m eta \u001b[36m0:00:00\u001b[0m\n",
            "\u001b[?25h"
          ]
        }
      ]
    },
    {
      "cell_type": "code",
      "source": [
        "import open3d as o3d\n",
        "import numpy as np\n",
        "import pandas as pd\n",
        "import os\n",
        "import re\n",
        "from glob import glob\n",
        "import time\n",
        "import random\n",
        "import seaborn as sns\n",
        "import xml.etree.ElementTree as ET\n",
        "from mpl_toolkits.mplot3d import Axes3D\n",
        "from pyntcloud import PyntCloud\n",
        "import plotly.graph_objs as go\n",
        "from matplotlib.pyplot import cm\n",
        "import matplotlib.pyplot as plt\n",
        "from plotly.offline import iplot, init_notebook_mode\n",
        "\n",
        "from sklearn.model_selection import train_test_split\n",
        "\n",
        "\n",
        "\n",
        "import warnings\n",
        "warnings.filterwarnings(\"ignore\")\n",
        "\n",
        "init_notebook_mode(connected=True)\n",
        "%matplotlib inline"
      ],
      "metadata": {
        "colab": {
          "base_uri": "https://localhost:8080/",
          "height": 17
        },
        "id": "NA8Zz9xPDQjo",
        "outputId": "ed01ecb8-cfaa-4cf7-efa9-3b3ce6dfbadc"
      },
      "execution_count": null,
      "outputs": [
        {
          "output_type": "display_data",
          "data": {
            "text/html": [
              "        <script type=\"text/javascript\">\n",
              "        window.PlotlyConfig = {MathJaxConfig: 'local'};\n",
              "        if (window.MathJax && window.MathJax.Hub && window.MathJax.Hub.Config) {window.MathJax.Hub.Config({SVG: {font: \"STIX-Web\"}});}\n",
              "        if (typeof require !== 'undefined') {\n",
              "        require.undef(\"plotly\");\n",
              "        requirejs.config({\n",
              "            paths: {\n",
              "                'plotly': ['https://cdn.plot.ly/plotly-2.35.2.min']\n",
              "            }\n",
              "        });\n",
              "        require(['plotly'], function(Plotly) {\n",
              "            window._Plotly = Plotly;\n",
              "        });\n",
              "        }\n",
              "        </script>\n",
              "        "
            ]
          },
          "metadata": {}
        }
      ]
    },
    {
      "cell_type": "code",
      "source": [
        "ply_files = [\n",
        "    \"/content/data1.ply\",\n",
        "    \"/content/data2.ply\",\n",
        "    \"/content/data3.ply\",\n",
        "    \"/content/data4.ply\",\n",
        "    \"/content/data5.ply\",\n",
        "    \"/content/data6.ply\",\n",
        "    \"/content/data7.ply\",\n",
        "    \"/content/data8.ply\",\n",
        "    \"/content/data9.ply\",\n",
        "    \"/content/data10.ply\",\n",
        "    \"/content/data11.ply\",\n",
        "    \"/content/data12.ply\",\n",
        "    \"/content/data13.ply\",\n",
        "    \"/content/data14.ply\",\n",
        "    \"/content/data15.ply\",\n",
        "    \"/content/data16.ply\",\n",
        "    \"/content/data17.ply\"\n",
        "]"
      ],
      "metadata": {
        "id": "sGzM2NyCC48q"
      },
      "execution_count": null,
      "outputs": []
    },
    {
      "cell_type": "code",
      "source": [
        "!nvidia-smi"
      ],
      "metadata": {
        "colab": {
          "base_uri": "https://localhost:8080/"
        },
        "id": "uQvAYmd--58z",
        "outputId": "d7266be0-4524-4e82-c451-ba72cffbce0f"
      },
      "execution_count": null,
      "outputs": [
        {
          "output_type": "stream",
          "name": "stdout",
          "text": [
            "Fri Sep 27 07:01:39 2024       \n",
            "+---------------------------------------------------------------------------------------+\n",
            "| NVIDIA-SMI 535.104.05             Driver Version: 535.104.05   CUDA Version: 12.2     |\n",
            "|-----------------------------------------+----------------------+----------------------+\n",
            "| GPU  Name                 Persistence-M | Bus-Id        Disp.A | Volatile Uncorr. ECC |\n",
            "| Fan  Temp   Perf          Pwr:Usage/Cap |         Memory-Usage | GPU-Util  Compute M. |\n",
            "|                                         |                      |               MIG M. |\n",
            "|=========================================+======================+======================|\n",
            "|   0  Tesla T4                       Off | 00000000:00:04.0 Off |                    0 |\n",
            "| N/A   37C    P8              12W /  70W |      3MiB / 15360MiB |      0%      Default |\n",
            "|                                         |                      |                  N/A |\n",
            "+-----------------------------------------+----------------------+----------------------+\n",
            "                                                                                         \n",
            "+---------------------------------------------------------------------------------------+\n",
            "| Processes:                                                                            |\n",
            "|  GPU   GI   CI        PID   Type   Process name                            GPU Memory |\n",
            "|        ID   ID                                                             Usage      |\n",
            "|=======================================================================================|\n",
            "|  No running processes found                                                           |\n",
            "+---------------------------------------------------------------------------------------+\n"
          ]
        }
      ]
    },
    {
      "cell_type": "code",
      "source": [
        "import open3d as o3d\n",
        "import numpy as np\n",
        "\n",
        "\n",
        "\n",
        "def extract_features_from_ply(ply_file):\n",
        "    # Load PLY point cloud\n",
        "    pcd = o3d.io.read_point_cloud(ply_file)\n",
        "    points = np.asarray(pcd.points)\n",
        "\n",
        "    # Calculate feature 1: Bounding box dimensions (x, y, z ranges)\n",
        "    x_range = points[:, 0].max() - points[:, 0].min()\n",
        "    y_range = points[:, 1].max() - points[:, 1].min()\n",
        "    z_range = points[:, 2].max() - points[:, 2].min()\n",
        "\n",
        "    # Calculate feature 2: Point density (points per volume unit)\n",
        "    volume = x_range * y_range * z_range\n",
        "    point_density = len(points) / volume\n",
        "\n",
        "    # Calculate feature 3: Mean and Std deviation of height (z-axis)\n",
        "    mean_z = np.mean(points[:, 2])\n",
        "    std_z = np.std(points[:, 2])\n",
        "\n",
        "    features = [x_range, y_range, z_range, point_density, mean_z, std_z]\n",
        "\n",
        "    return np.array(features)\n",
        "\n",
        "# Example usage\n",
        "for ply_file in ply_files:\n",
        "  features = extract_features_from_ply(ply_file)\n",
        "  print(\"Extracted Features: \", features)"
      ],
      "metadata": {
        "colab": {
          "base_uri": "https://localhost:8080/"
        },
        "id": "t4JeuUJQLr9g",
        "outputId": "a7355a9a-6a79-4cb5-9cfc-2d37fc2afbd5"
      },
      "execution_count": null,
      "outputs": [
        {
          "output_type": "stream",
          "name": "stdout",
          "text": [
            "Extracted Features:  [116.02668381  52.00365448  10.45742667   0.42148626   0.32042109\n",
            "   1.29925226]\n",
            "Extracted Features:  [112.35417175  52.86379433   9.9542824    0.45104167   0.317899\n",
            "   1.29288525]\n",
            "Extracted Features:  [116.02530289  51.8754673   10.00501025   0.44618938   0.32636931\n",
            "   1.29420382]\n",
            "Extracted Features:  [116.03269958  52.9072876   10.47088587   0.41530473   0.33166028\n",
            "   1.31043474]\n",
            "Extracted Features:  [116.00077057  51.89946938  10.47235131   0.4242673    0.34378784\n",
            "   1.32820419]\n",
            "Extracted Features:  [112.25035477  52.8822937   10.45225012   0.43087981   0.32516133\n",
            "   1.29520288]\n",
            "Extracted Features:  [112.27480316  51.8783474   10.00501025   0.45816856   0.31204553\n",
            "   1.28218067]\n",
            "Extracted Features:  [84.77124786 51.79255486 10.01024389  0.61214779  0.31278946  1.28025494]\n",
            "Extracted Features:  [115.9481163   52.8621521    9.97912848   0.44007379   0.30749902\n",
            "   1.27372243]\n",
            "Extracted Features:  [115.99201965  51.79454231  10.47088587   0.42793669   0.30651644\n",
            "   1.27135233]\n",
            "Extracted Features:  [116.04305267  51.82381439   8.20058155   0.54523218   0.32536312\n",
            "   1.29018419]\n",
            "Extracted Features:  [76.53388977 52.86954117 10.02096963  0.65958919  0.325335    1.29605426]\n",
            "Extracted Features:  [116.01462936  52.88307381  10.45225012   0.41653443   0.34415726\n",
            "   1.31587066]\n",
            "Extracted Features:  [115.98521042  52.8801136   10.48658669   0.4168539    0.3392693\n",
            "   1.31959049]\n",
            "Extracted Features:  [116.02331924  52.99445724  10.01024389   0.43575099   0.36763448\n",
            "   1.37247734]\n",
            "Extracted Features:  [116.02359772  52.5069828   10.47611952   0.41514526   0.32240463\n",
            "   1.3160272 ]\n",
            "Extracted Features:  [111.82123566  54.07091904  10.47088587   0.42145083   0.31367424\n",
            "   1.29198424]\n"
          ]
        }
      ]
    },
    {
      "cell_type": "code",
      "source": [
        "pip install pykalman"
      ],
      "metadata": {
        "colab": {
          "base_uri": "https://localhost:8080/"
        },
        "id": "zA_n4T7ddPzp",
        "outputId": "c80b06f8-3789-44f6-96c5-171cf956116a"
      },
      "execution_count": null,
      "outputs": [
        {
          "output_type": "stream",
          "name": "stdout",
          "text": [
            "Collecting pykalman\n",
            "  Downloading pykalman-0.9.7-py2.py3-none-any.whl.metadata (5.5 kB)\n",
            "Requirement already satisfied: numpy in /usr/local/lib/python3.10/dist-packages (from pykalman) (1.26.4)\n",
            "Requirement already satisfied: scipy in /usr/local/lib/python3.10/dist-packages (from pykalman) (1.13.1)\n",
            "Downloading pykalman-0.9.7-py2.py3-none-any.whl (251 kB)\n",
            "\u001b[?25l   \u001b[90m━━━━━━━━━━━━━━━━━━━━━━━━━━━━━━━━━━━━━━━━\u001b[0m \u001b[32m0.0/251.6 kB\u001b[0m \u001b[31m?\u001b[0m eta \u001b[36m-:--:--\u001b[0m\r\u001b[2K   \u001b[90m━━━━━━━━━━━━━━━━━━━━━━━━━━━━━━━━━━━━━━━━\u001b[0m \u001b[32m251.6/251.6 kB\u001b[0m \u001b[31m14.4 MB/s\u001b[0m eta \u001b[36m0:00:00\u001b[0m\n",
            "\u001b[?25hInstalling collected packages: pykalman\n",
            "Successfully installed pykalman-0.9.7\n"
          ]
        }
      ]
    },
    {
      "cell_type": "code",
      "source": [
        "import numpy as np\n",
        "from sklearn import svm\n",
        "from sklearn.preprocessing import StandardScaler\n",
        "from sklearn.metrics import precision_score, recall_score\n",
        "from sklearn.cluster import DBSCAN\n",
        "from pykalman import KalmanFilter\n",
        "from sklearn.svm import SVC\n",
        "import open3d as o3d\n",
        "\n",
        "# Function to read and extract features from the PLY file\n",
        "def read_ply(ply_file):\n",
        "    try:\n",
        "        pcd = o3d.io.read_point_cloud(ply_file)\n",
        "        points = np.asarray(pcd.points)\n",
        "\n",
        "        if points.size == 0:\n",
        "            raise ValueError(\"Point cloud is empty\")\n",
        "\n",
        "        # Calculate feature 1: Bounding box dimensions (x, y, z ranges)\n",
        "        x_range = points[:, 0].max() - points[:, 0].min()\n",
        "        y_range = points[:, 1].max() - points[:, 1].min()\n",
        "        z_range = points[:, 2].max() - points[:, 2].min()\n",
        "\n",
        "        # Calculate feature 2: Point density (points per volume unit)\n",
        "        volume = x_range * y_range * z_range\n",
        "        point_density = len(points) / volume if volume > 0 else 0\n",
        "\n",
        "        # Calculate feature 3: Mean and Std deviation of height (z-axis)\n",
        "        mean_z = np.mean(points[:, 2])\n",
        "        std_z = np.std(points[:, 2])\n",
        "\n",
        "        ft_info = [x_range, y_range, z_range, point_density, mean_z, std_z]\n",
        "\n",
        "        return points\n",
        "\n",
        "    except Exception as e:\n",
        "        print(f\"Error reading PLY file: {e}\")\n",
        "        return None, None\n",
        "\n",
        "\n",
        "# Remove ground points\n",
        "def remove_ground_points(points,zmin):\n",
        "    points[points[:, 2] >= zmin]\n",
        "    pcd_from_points = o3d.geometry.PointCloud()\n",
        "    pcd_from_points.points = o3d.utility.Vector3dVector(points)\n",
        "\n",
        "\n",
        "    # Apply plane segmentation on the PointCloud\n",
        "plane_model, inliers = pcd_from_points.segment_plane(distance_threshold=0.02,\n",
        "                                                     ransac_n=3,\n",
        "                                                     num_iterations=1000)\n",
        "\n",
        "# Extract the planar inliers and outliers\n",
        "inlier_cloud = pcd_from_points.select_by_index(inliers)  # Planar points\n",
        "outlier_cloud = pcd_from_points.select_by_index(inliers, invert=True)  # Non-planar points\n",
        "\n",
        "    return outlier_cloud\n",
        "\n",
        "\n",
        "def extract_features(clusters):\n",
        "    features = []\n",
        "    for cluster in clusters:\n",
        "        cluster_points = np.asarray(cluster.points)\n",
        "        if cluster_points.shape[0] > 0:\n",
        "            f1 = len(cluster_points)  # Number of points in the cluster\n",
        "            f2 = np.min(np.linalg.norm(cluster_points, axis=1))  # Min distance from origin (sensor)\n",
        "            cov_matrix = np.cov(cluster_points, rowvar=False)  # Covariance matrix\n",
        "            f3 = cov_matrix.flatten()[:6]  # Simplified covariance features (6 elements)\n",
        "            features.append(np.hstack([f1, f2, f3]))  # Concatenate features into a single array\n",
        "    return np.array(features)\n",
        "\n",
        "def train_svm(features, labels):\n",
        "    if features.size == 0:\n",
        "        raise ValueError(\"Features array is empty. Cannot train SVM.\")\n",
        "\n",
        "    # Ensure features are 2D\n",
        "    if features.ndim == 1:\n",
        "        features = features.reshape(-1, 1)\n",
        "\n",
        "    scaler = StandardScaler()\n",
        "    features_scaled = scaler.fit_transform(features)\n",
        "\n",
        "    classifier = SVC()\n",
        "    classifier.fit(features_scaled, labels)\n",
        "\n",
        "    return classifier, scaler\n",
        "\n",
        "# Kalman Filter for tracking\n",
        "def kalman_tracking(points):\n",
        "    kf = KalmanFilter(initial_state_mean=points[0], n_dim_obs=2)\n",
        "    filtered_state_means, _ = kf.filter(points[:, :2])\n",
        "    return filtered_state_means\n"
      ],
      "metadata": {
        "id": "WzDOeqZqj72K"
      },
      "execution_count": null,
      "outputs": []
    },
    {
      "cell_type": "code",
      "source": [
        "import open3d as o3d\n",
        "from sklearn.cluster import DBSCAN\n",
        "\n",
        "def hybrid_clustering(pcd, cluster_tolerance, min_cluster_size, max_cluster_size, distance_threshold, min_samples):\n",
        "    points = np.asarray(pcd.points)  # Convert point cloud to numpy array\n",
        "\n",
        "    kdtree = o3d.geometry.KDTreeFlann(pcd)  # PCL KDTree for efficient neighbor search\n",
        "    kdtree.set_input_cloud(pcd)\n",
        "    visited = np.zeros(len(points), dtype=bool)\n",
        "    kdtree_clusters = []\n",
        "\n",
        "    def cluster_grow(i, tolerance, visited, points, kdtree):\n",
        "      neighbors = [i]\n",
        "      cluster = []\n",
        "      while neighbors:\n",
        "          idx = neighbors.pop()\n",
        "          if not visited[idx]:\n",
        "              visited[idx] = True\n",
        "              cluster.append(idx)\n",
        "              # Using PCL's KDTree for faster radius search\n",
        "              _, idx_neighbors = kdtree.radius_search_for_cloud(points[idx], tolerance)\n",
        "              neighbors.extend([n for n in idx_neighbors if not visited[n]])\n",
        "      return cluster\n",
        "\n",
        "\n",
        "    # Iterate over all points and perform KDTree-based clustering\n",
        "    for i in range(len(points)):\n",
        "        if not visited[i]:\n",
        "            cluster = cluster_grow(i, cluster_tolerance)\n",
        "            if min_cluster_size < len(cluster) < max_cluster_size:\n",
        "                kdtree_clusters.append(cluster)\n",
        "\n",
        "\n",
        "    filtered_clusters = [cluster for cluster in kdtree_clusters if len(cluster) > min_cluster_size]\n",
        "\n",
        "    for cluster in filtered_clusters:\n",
        "        cluster_points = points[cluster]  # Extract points from this cluster\n",
        "        dbscan = DBSCAN(eps=distance_threshold, min_samples=min_samples).fit(cluster_points)\n",
        "\n",
        "        labels = dbscan.labels_\n",
        "        unique_labels = np.unique(labels)\n",
        "\n",
        "        # Step 4: Combine DBSCAN results into refined clusters\n",
        "        refined_clusters = []\n",
        "        for label in unique_labels:\n",
        "            if label == -1:\n",
        "                continue  # Skip noise points\n",
        "            sub_cluster_indices = np.where(labels == label)[0]\n",
        "            if min_cluster_size < len(sub_cluster_indices) < max_cluster_size:\n",
        "                sub_cluster_points = cluster_points[sub_cluster_indices]\n",
        "                refined_cluster = o3d.geometry.PointCloud()\n",
        "                refined_cluster.points = o3d.utility.Vector3dVector(sub_cluster_points)\n",
        "                refined_clusters.append(refined_cluster)\n",
        "\n",
        "    return refined_clusters"
      ],
      "metadata": {
        "id": "2otbRbmyuQth"
      },
      "execution_count": null,
      "outputs": []
    },
    {
      "cell_type": "code",
      "source": [
        "# Main pipeline\n",
        "def main():\n",
        "    # Step 1: Load LiDAR data\n",
        "    for ply_file in ply_files:\n",
        "      lidar_points = read_ply(ply_files[0])\n",
        "      if lidar_points is None:\n",
        "          return\n",
        "\n",
        "    filtered_points = remove_ground_points(lidar_points, zmin=1.0)\n",
        "    pcd = o3d.geometry.PointCloud()\n",
        "    pcd.points = o3d.utility.Vector3dVector(filtered_points)  # Convert numpy array to Open3D PointCloud\n",
        "    clusters = hybrid_clustering(pcd, cluster_tolerance=0.1,min_cluster_size=100,max_cluster_size=800, distance_threshold=0.3, min_samples=30)\n",
        "    features = extract_features(clusters)\n",
        "\n",
        "    #Step 5: Online learning - Initially supervised, then P-N experts for online updates\n",
        "    initial_labels = np.random.choice([0, 1], size=features.shape[0])\n",
        "    try:\n",
        "        # Step 4: Train the SVM model\n",
        "        classifier, scaler = train_svm(features, initial_labels)\n",
        "        print(\"SVM model training complete\")\n",
        "\n",
        "    except ValueError as e:\n",
        "        print(f\"Error during SVM training: {e}\")\n",
        "\n",
        "\n",
        "    tracked_points = kalman_tracking(filtered_points)\n",
        "\n",
        "\n",
        "    test_features = extract_features(clusters)\n",
        "    test_scaled = scaler.transform(test_features)\n",
        "    predictions = classifier.predict(test_scaled)\n",
        "\n",
        "    # Step 8: Performance evaluation (precision, recall, etc.)\n",
        "    precision = precision_score(initial_labels, predictions)\n",
        "    recall = recall_score(initial_labels, predictions)\n",
        "    print(f'Precision: {precision:.2f}, Recall: {recall:.2f}')\n",
        "\n",
        "if __name__ == \"__main__\":\n",
        "    main()"
      ],
      "metadata": {
        "colab": {
          "base_uri": "https://localhost:8080/",
          "height": 321
        },
        "id": "kvARYW7FuWi2",
        "outputId": "07aa11c5-4edc-4fd3-be2e-772bae1547ab"
      },
      "execution_count": null,
      "outputs": [
        {
          "output_type": "error",
          "ename": "AttributeError",
          "evalue": "'numpy.ndarray' object has no attribute 'segment_plane'",
          "traceback": [
            "\u001b[0;31m---------------------------------------------------------------------------\u001b[0m",
            "\u001b[0;31mAttributeError\u001b[0m                            Traceback (most recent call last)",
            "\u001b[0;32m<ipython-input-33-8c1824bdc4d8>\u001b[0m in \u001b[0;36m<cell line: 38>\u001b[0;34m()\u001b[0m\n\u001b[1;32m     37\u001b[0m \u001b[0;34m\u001b[0m\u001b[0m\n\u001b[1;32m     38\u001b[0m \u001b[0;32mif\u001b[0m \u001b[0m__name__\u001b[0m \u001b[0;34m==\u001b[0m \u001b[0;34m\"__main__\"\u001b[0m\u001b[0;34m:\u001b[0m\u001b[0;34m\u001b[0m\u001b[0;34m\u001b[0m\u001b[0m\n\u001b[0;32m---> 39\u001b[0;31m     \u001b[0mmain\u001b[0m\u001b[0;34m(\u001b[0m\u001b[0;34m)\u001b[0m\u001b[0;34m\u001b[0m\u001b[0;34m\u001b[0m\u001b[0m\n\u001b[0m",
            "\u001b[0;32m<ipython-input-33-8c1824bdc4d8>\u001b[0m in \u001b[0;36mmain\u001b[0;34m()\u001b[0m\n\u001b[1;32m      7\u001b[0m           \u001b[0;32mreturn\u001b[0m\u001b[0;34m\u001b[0m\u001b[0;34m\u001b[0m\u001b[0m\n\u001b[1;32m      8\u001b[0m \u001b[0;34m\u001b[0m\u001b[0m\n\u001b[0;32m----> 9\u001b[0;31m     \u001b[0mfiltered_points\u001b[0m \u001b[0;34m=\u001b[0m \u001b[0mremove_ground_points\u001b[0m\u001b[0;34m(\u001b[0m\u001b[0mlidar_points\u001b[0m\u001b[0;34m,\u001b[0m \u001b[0mzmin\u001b[0m\u001b[0;34m=\u001b[0m\u001b[0;36m1.0\u001b[0m\u001b[0;34m)\u001b[0m\u001b[0;34m\u001b[0m\u001b[0;34m\u001b[0m\u001b[0m\n\u001b[0m\u001b[1;32m     10\u001b[0m     \u001b[0mpcd\u001b[0m \u001b[0;34m=\u001b[0m \u001b[0mo3d\u001b[0m\u001b[0;34m.\u001b[0m\u001b[0mgeometry\u001b[0m\u001b[0;34m.\u001b[0m\u001b[0mPointCloud\u001b[0m\u001b[0;34m(\u001b[0m\u001b[0;34m)\u001b[0m\u001b[0;34m\u001b[0m\u001b[0;34m\u001b[0m\u001b[0m\n\u001b[1;32m     11\u001b[0m     \u001b[0mpcd\u001b[0m\u001b[0;34m.\u001b[0m\u001b[0mpoints\u001b[0m \u001b[0;34m=\u001b[0m \u001b[0mo3d\u001b[0m\u001b[0;34m.\u001b[0m\u001b[0mutility\u001b[0m\u001b[0;34m.\u001b[0m\u001b[0mVector3dVector\u001b[0m\u001b[0;34m(\u001b[0m\u001b[0mfiltered_points\u001b[0m\u001b[0;34m)\u001b[0m  \u001b[0;31m# Convert numpy array to Open3D PointCloud\u001b[0m\u001b[0;34m\u001b[0m\u001b[0;34m\u001b[0m\u001b[0m\n",
            "\u001b[0;32m<ipython-input-31-c296e9b746cf>\u001b[0m in \u001b[0;36mremove_ground_points\u001b[0;34m(points, zmin)\u001b[0m\n\u001b[1;32m     43\u001b[0m \u001b[0;34m\u001b[0m\u001b[0m\n\u001b[1;32m     44\u001b[0m     \u001b[0mpoints\u001b[0m\u001b[0;34m[\u001b[0m\u001b[0mpoints\u001b[0m\u001b[0;34m[\u001b[0m\u001b[0;34m:\u001b[0m\u001b[0;34m,\u001b[0m \u001b[0;36m2\u001b[0m\u001b[0;34m]\u001b[0m \u001b[0;34m>=\u001b[0m \u001b[0mzmin\u001b[0m\u001b[0;34m]\u001b[0m\u001b[0;34m\u001b[0m\u001b[0;34m\u001b[0m\u001b[0m\n\u001b[0;32m---> 45\u001b[0;31m     plane_model, inliers = points.segment_plane(distance_threshold=0.02,\n\u001b[0m\u001b[1;32m     46\u001b[0m                                                      \u001b[0mransac_n\u001b[0m\u001b[0;34m=\u001b[0m\u001b[0;36m3\u001b[0m\u001b[0;34m,\u001b[0m\u001b[0;34m\u001b[0m\u001b[0;34m\u001b[0m\u001b[0m\n\u001b[1;32m     47\u001b[0m                                                      num_iterations=1000)\n",
            "\u001b[0;31mAttributeError\u001b[0m: 'numpy.ndarray' object has no attribute 'segment_plane'"
          ]
        }
      ]
    },
    {
      "cell_type": "code",
      "source": [
        "print(clusters)"
      ],
      "metadata": {
        "id": "GFQqxBgs4FGE"
      },
      "execution_count": null,
      "outputs": []
    },
    {
      "cell_type": "code",
      "source": [
        "import numpy as np\n",
        "import matplotlib.pyplot as plt\n",
        "from mpl_toolkits.mplot3d import Axes3D\n",
        "\n",
        "def visualize_clusters(points, clusters):\n",
        "    points = np.asarray(points)  # Convert to NumPy array if not already\n",
        "    clusters = np.asarray(clusters)  # Convert clusters to NumPy array if not already\n",
        "\n",
        "    unique_clusters = np.unique(clusters)\n",
        "    colors = plt.cm.viridis(np.linspace(0, 1, len(unique_clusters)))  # Use a colormap\n",
        "\n",
        "    fig = plt.figure()\n",
        "    ax = fig.add_subplot(111, projection='3d')\n",
        "\n",
        "    for cluster_id, color in zip(unique_clusters, colors):\n",
        "        cluster_points = points[clusters == cluster_id]\n",
        "        if cluster_points.size > 0:  # Check if cluster_points has data\n",
        "            ax.scatter(cluster_points[:, 0], cluster_points[:, 1], cluster_points[:, 2],\n",
        "                       color=color, label=f'Cluster {cluster_id}', s=5)\n",
        "\n",
        "    ax.set_xlabel('X Axis')\n",
        "    ax.set_ylabel('Y Axis')\n",
        "    ax.set_zlabel('Z Axis')\n",
        "    ax.set_title('3D Clustering Visualization')\n",
        "    ax.legend()\n",
        "    plt.show()\n",
        "\n",
        "# Example of how to call it after clustering\n",
        "if clusters is not None and len(clusters) > 0:  # Check if clusters are available\n",
        "    visualize_clusters(np.asarray(pcd.points), clusters)  # Pass the points and clusters\n",
        "else:\n",
        "    print(\"Clusters not found or empty. Please check your clustering implementation.\")\n"
      ],
      "metadata": {
        "id": "hOYFrPsn497E"
      },
      "execution_count": null,
      "outputs": []
    },
    {
      "cell_type": "code",
      "source": [],
      "metadata": {
        "id": "ju8D70CRPfXe"
      },
      "execution_count": null,
      "outputs": []
    }
  ]
}